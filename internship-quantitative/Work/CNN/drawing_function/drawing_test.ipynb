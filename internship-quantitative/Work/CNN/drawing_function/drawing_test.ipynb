{
 "cells": [
  {
   "cell_type": "code",
   "execution_count": null,
   "metadata": {},
   "outputs": [],
   "source": [
    "import mplfinance as mlf \n",
    "import pandas as pd\n",
    "import matplotlib.pyplot as plt\n",
    "#import drawing_function.function as function\n",
    "from joblib import Parallel,delayed\n",
    "import copy\n",
    "mlf.__version__"
   ]
  },
  {
   "cell_type": "markdown",
   "metadata": {},
   "source": [
    "### 绘图的jupyter版本，便于实验"
   ]
  },
  {
   "cell_type": "markdown",
   "metadata": {},
   "source": [
    "#### MACD绘制\n",
    "为了让MACD直方图有颜色，必须使用另一个函数进行获取一个颜色列表，输入进入Mplfinance进行绘图"
   ]
  },
  {
   "cell_type": "code",
   "execution_count": null,
   "metadata": {},
   "outputs": [],
   "source": [
    "def get_macd_colors(data):\n",
    "    colors=[]\n",
    "    for i in range(len(data)):\n",
    "        if data[i]<0:\n",
    "            colors.append(\"green\")  \n",
    "        elif data[i]>0:\n",
    "            colors.append(\"red\") \n",
    "        else:\n",
    "            colors.append(\"#F0FFFF\")\n",
    "    return colors"
   ]
  },
  {
   "cell_type": "code",
   "execution_count": null,
   "metadata": {},
   "outputs": [],
   "source": [
    "def subdrawing(data,s,profit):\n",
    "    labelDate=data.index[0]\n",
    "    code=data.iloc[0,0]\n",
    "    labelv=profit.query('(labelDate == @labelDate)')\n",
    "    data=data.iloc[1:,:]\n",
    "    drawing_list=[\n",
    "        mlf.make_addplot(data['MA5'],type='line',color='b',panel=0),\n",
    "        mlf.make_addplot(data['MA10'],type='line',color='r',panel=0),\n",
    "        mlf.make_addplot(data['MA15'],type='line',color='g',panel=0),\n",
    "        mlf.make_addplot(data['MA20'],type='line',color='y',panel=0),\n",
    "        mlf.make_addplot(data['MACD'],type='line',panel=2,color='b'),\n",
    "        mlf.make_addplot(data['Signal'],type='line',panel=2,color='y'),\n",
    "        mlf.make_addplot(data['Histogram'],type='bar',panel=2,color=get_macd_colors(data['Histogram']))\n",
    "    ]\n",
    "    fig,axes=mlf.plot(\n",
    "        data,type='candle',\n",
    "        volume=True,ylabel=\"\",\n",
    "        style=s,addplot=drawing_list,\n",
    "        figscale=3,returnfig=True,panel_ratios=(5,3,2)\n",
    "    )\n",
    "    axes[0].yaxis.set_ticks([])\n",
    "    axes[2].yaxis.set_ticks([])\n",
    "    axes[2].set_ylabel(\"\")\n",
    "    axes[4].yaxis.set_ticks([])\n",
    "    axes[5].xaxis.set_ticks([])\n",
    "    axes[5].yaxis.set_ticks([])\n",
    "    for i in range(6):\n",
    "        axes[i].spines[['top','bottom','left','right']].set_visible(False)\n",
    "    try:\n",
    "        labelv=float(labelv.iloc[0,1])\n",
    "    except:\n",
    "        #print(labelDate,code)\n",
    "        plt.close() \n",
    "    else:\n",
    "        path=\"\"\n",
    "        if labelv>0:\n",
    "            path=\"/home/hydu/CNN/image/2/\"\n",
    "            name=f\"2-{code}-{labelDate}.png\"\n",
    "            path=path+name\n",
    "        elif labelv==0:\n",
    "            path=\"/home/hydu/CNN/image/1/\"\n",
    "            name=f\"1-{code}-{labelDate}.png\"\n",
    "            path=path+name\n",
    "        else:\n",
    "            path=\"/home/hydu/CNN/image/0/\"\n",
    "            name=f\"0-{code}-{labelDate}.png\"\n",
    "            path=path+name\n",
    "        plt.savefig(fname=path,dpi=20)  \n",
    "        plt.close()     "
   ]
  },
  {
   "cell_type": "markdown",
   "metadata": {},
   "source": [
    "#### 真正的绘图函数\n",
    "首先计算MACD各项指标，随后使用mlf的主题制作函数制作初级主题设置，进行第一步的图主题绘画。<br>\n",
    "随后使用mlf接口获得matplotlib形式的mlf返回对象，首先去除标签、名字等。随后根据matplotlib对象图，直接去除spine。"
   ]
  },
  {
   "cell_type": "code",
   "execution_count": null,
   "metadata": {},
   "outputs": [],
   "source": [
    "def drawing(this_data,profit20,code,style):\n",
    "    #this_data=copy.copy(data.query('code == @code'))\n",
    "    MA5=this_data['Close'].rolling(window=5).mean()\n",
    "    MA10=this_data['Close'].rolling(window=10).mean()\n",
    "    MA15=this_data['Close'].rolling(window=15).mean()\n",
    "    MA20=this_data['Close'].rolling(window=20).mean()\n",
    "    Ema12=this_data['Close'].ewm(span=12,adjust=False).mean()\n",
    "    Ema26=this_data['Close'].ewm(span=26,adjust=False).mean()\n",
    "    MACD=Ema12-Ema26\n",
    "    Signal=MACD.ewm(span=9,adjust=False).mean()\n",
    "    Histogram=MACD-Signal\n",
    "    Histogram.columns=['Macd']\n",
    "    this_data['Signal']=Signal\n",
    "    this_data['MACD']=MACD\n",
    "    this_data['Histogram']=Histogram\n",
    "    this_data['MA5']=MA5\n",
    "    this_data['MA10']=MA10\n",
    "    this_data['MA15']=MA15\n",
    "    this_data['MA20']=MA20\n",
    "    row,line=this_data.shape\n",
    "    for i in range(0,row-21):\n",
    "        if i<=20:  #如果时间不到20天，平均线不存在\n",
    "            continue\n",
    "        slice_data=this_data.iloc[i:i+21,:]\n",
    "        #print(slice_data)\n",
    "        subdrawing(data=slice_data,s=style,profit=profit20)\n",
    "    \n",
    "    #mlf.show()"
   ]
  },
  {
   "cell_type": "markdown",
   "metadata": {},
   "source": [
    "#### 基本数据处理\n",
    "得到了h5文件（文件内部由不同group组成，同时每一组中包含不同的dataset），必须使用特殊函数，同时指定读取数据(key='data)。此外数据索引必须是DateTime格式，同时需要重新命名。"
   ]
  },
  {
   "cell_type": "code",
   "execution_count": null,
   "metadata": {},
   "outputs": [],
   "source": [
    "path=\"/data/AI_Project/DataSets/AdjDaily/\"\n",
    "filenames=[]\n",
    "for i in range(2007,2008):\n",
    "    filename=f\"{path}{i}.h5\"\n",
    "    filenames.append(filename)\n",
    "data=pd.read_hdf(\"/data/AI_Project/DataSets/AdjDaily/2006.h5\",key='data')\n",
    "for filename in filenames:\n",
    "    tempdata=pd.read_hdf(filename,key='data')\n",
    "    data=pd.concat([data,tempdata])\n",
    "profit20=pd.read_hdf(\"/data/AI_Project/Labels/Ret20.h5\")\n",
    "stock_code=sorted(list(data.loc[:,'code'].unique()),key=str.lower)\n",
    "\n",
    "data.index=pd.to_datetime(data.index,format=\"%Y%m%d\")\n",
    "profit20.index=pd.to_datetime(profit20.index,format=\"%Y%m%d\")\n",
    "profit20['labelDate']=pd.to_datetime(profit20[\"labelDate\"],format=\"%Y%m%d\")\n",
    "data.columns=columns=['code', 'preclose', 'Open', 'High', 'Low', 'Close', 'Volume', 'amount','trdnum']\n",
    "\n",
    "mc=mlf.make_marketcolors(up='r',down='g',wick={'up':'blue','down':'orange'},volume={'up':'r','down':'g'})\n",
    "s=mlf.make_mpf_style(base_mpf_style='yahoo',marketcolors=mc,mavcolors=['r','g','b','orange'],gridstyle='')"
   ]
  },
  {
   "cell_type": "code",
   "execution_count": null,
   "metadata": {},
   "outputs": [],
   "source": [
    "print(len(stock_code))"
   ]
  },
  {
   "cell_type": "code",
   "execution_count": null,
   "metadata": {},
   "outputs": [],
   "source": [
    "data.head()"
   ]
  },
  {
   "cell_type": "code",
   "execution_count": null,
   "metadata": {},
   "outputs": [],
   "source": [
    "profit20.head()"
   ]
  },
  {
   "cell_type": "markdown",
   "metadata": {},
   "source": [
    "#### 数据切分\n",
    "将数据每20天切分一次，进行绘图，同时应该注意如何标注标签。"
   ]
  },
  {
   "cell_type": "code",
   "execution_count": null,
   "metadata": {},
   "outputs": [],
   "source": [
    "data_list=[]\n",
    "profit_list=[]\n",
    "for code in stock_code:\n",
    "    temp_data=copy.copy(data.query('code == @code'))\n",
    "    temp_profit=copy.copy(profit20.query('code == @code'))\n",
    "    data_list.append(temp_data)\n",
    "    profit_list.append(temp_profit)"
   ]
  },
  {
   "cell_type": "code",
   "execution_count": null,
   "metadata": {},
   "outputs": [],
   "source": [
    "Parallel(n_jobs=64)(delayed(drawing)(data,profit,style=s,code=code) for data,profit,code in zip(data_list,profit_list,stock_code))"
   ]
  }
 ],
 "metadata": {
  "kernelspec": {
   "display_name": "CNN",
   "language": "python",
   "name": "python3"
  },
  "language_info": {
   "codemirror_mode": {
    "name": "ipython",
    "version": 3
   },
   "file_extension": ".py",
   "mimetype": "text/x-python",
   "name": "python",
   "nbconvert_exporter": "python",
   "pygments_lexer": "ipython3",
   "version": "3.9.18"
  }
 },
 "nbformat": 4,
 "nbformat_minor": 2
}
